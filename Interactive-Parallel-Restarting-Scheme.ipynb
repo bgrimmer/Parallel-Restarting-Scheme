{
 "cells": [
  {
   "cell_type": "markdown",
   "metadata": {
    "deletable": true,
    "editable": true
   },
   "source": [
    "# Interactive Julia for *A Simple Nearly-optimal Restart Scheme for Speeding-Up First Order Methods* #\n",
    "\n",
    "### James Renegar, Benjamin Grimmer ###\n",
    "___\n",
    "\n",
    "This notebook follows along the ideas presented in [[1]](https://arxiv.org/abs/1803.00151). Its purpose is to give a simple and understandable implementation of the algorithms and concepts therein. Throughout this document, we may reference equations, lemmas, and theorems using the numbering given in that paper. \n",
    "\n",
    "The general outline of this document is the following:\n",
    "\n",
    "1. Implementation of Basic Synchronous Scheme\n",
    "2. Solving Some Simple Problems:\n",
    "    * --- via Subgradient Method\n",
    "    * --- via Accelerated Method\n",
    "3. Implementation of Parallel Asynchronous Scheme\n",
    "4. Solving an Interesting Problems:\n",
    "    * --- via Inexact Proximal Point Method\n",
    "\n",
    "**License**: Creative Commons License\n",
    "\n",
    "This work is licensed under a Creative Commons Attribution-ShareAlike 4.0 International License (http://creativecommons.org/licenses/by-sa/4.0/).\n",
    "\n",
    "An MIT License for the underlying software is provided in the separate LICENSE file.\n",
    "\n",
    "**Disclaimer**: We make no claim that the code below is optimized or the most efficient version possible. Instead our goal is to give the simplest implementation possible. Speedups are certainly possible using optimized linear algebra packages and by taking advantage of sparsity and problem specific structure.\n",
    "\n",
    "Any questions or feedback on this document can be sent to Ben Grimmer at *bdg79@cornell.edu*. \n",
    "\n",
    "[1] \"A Simple Nearly-Optimal Restart Scheme For Speeding-Up First Order Methods\", https://arxiv.org/abs/1803.00151. James Renegar, Benjamin Grimmer. First posted March 1st, 2018."
   ]
  },
  {
   "cell_type": "code",
   "execution_count": 1,
   "metadata": {
    "collapsed": false
   },
   "outputs": [],
   "source": [
    "#Importing plotting package to be used\n",
    "using PyPlot\n",
    "\n",
    "#Launching 16 threads for parallel algorithm to eventually use.\n",
    "#Our code below will all have the macro @everything attached to share the definitions with these threads\n",
    "processes = addprocs(16);"
   ]
  },
  {
   "cell_type": "markdown",
   "metadata": {
    "deletable": true,
    "editable": true
   },
   "source": [
    "# Implementation of Basic Synchronous Scheme #"
   ]
  },
  {
   "cell_type": "code",
   "execution_count": 2,
   "metadata": {
    "collapsed": false
   },
   "outputs": [],
   "source": [
    "@everywhere abstract type problem_instance end\n",
    "@everywhere abstract type algorithm_state end \n",
    "@everywhere type algorithm\n",
    "        initialization\n",
    "        iteration\n",
    "    end;"
   ]
  },
  {
   "cell_type": "code",
   "execution_count": 3,
   "metadata": {
    "collapsed": false
   },
   "outputs": [],
   "source": [
    "function direct_scheme(alg::algorithm, inst::problem_instance, x0, epsilon::Float64, T::Int64)\n",
    "    #Apply alg to the inst starting from x0 for T iterations\n",
    "    \n",
    "    ret = Array{Float64}(T+1) #Record of minimum objective value seen at each iteration\n",
    "    ret[1] = inst.f(x0)\n",
    "    \n",
    "    state = alg.initialization(inst, x0, epsilon)\n",
    "    \n",
    "    for i in 1:T \n",
    "        alg.iteration(state)\n",
    "        ret[i+1] = min(ret[i], inst.f(state.iterate))\n",
    "    end\n",
    "    return ret, state.iterate\n",
    "end;"
   ]
  },
  {
   "cell_type": "code",
   "execution_count": 4,
   "metadata": {
    "collapsed": false
   },
   "outputs": [],
   "source": [
    "function synchronuous_restarting_scheme(alg::algorithm, inst::problem_instance, x0, epsilon::Float64, T::Int64)\n",
    "    ret = Array{Float64}(T+1) #Record of minimum objective value seen at each iteration\n",
    "    ret[1] = inst.f(x0)\n",
    "    \n",
    "    N = max(2,ceil(Int64, -1*log(2,epsilon))) #Compute how many processes to use\n",
    "    eps = Array{Float64}(N)            #Accuracy level used by each algorithm instance\n",
    "    states = Array{algorithm_state}(N) #Current state of each parallel algorithm instance\n",
    "    objs = Array{Float64}(N)           #Target objective value of each algorithm instance\n",
    "    \n",
    "    for j in 1:N #Initialization loop\n",
    "        eps[j] = 2.0^(-1*j)\n",
    "        states[j] = alg.initialization(inst, x0, eps[j])\n",
    "        objs[j] = inst.f(x0) - eps[j]\n",
    "    end\n",
    "\n",
    "    for i in 1:T\n",
    "        #Handle first process since its special\n",
    "        value = inst.f(states[1].iterate)\n",
    "        if value < objs[2]\n",
    "            states[2] = alg.initialization(inst, states[1].iterate, eps[2])\n",
    "            objs[2] = value - eps[2]\n",
    "        end\n",
    "        alg.iteration(states[1])\n",
    "        \n",
    "        #Handle the middle processes\n",
    "        for j in 2:(N-1)\n",
    "            value = inst.f(states[j].iterate)\n",
    "            if value < objs[j+1]\n",
    "                states[j+1] = alg.initialization(inst, states[j].iterate, eps[j+1])\n",
    "                objs[j+1] = value - eps[j+1]\n",
    "            end\n",
    "            if value < objs[j]\n",
    "                states[j] = alg.initialization(inst, states[j].iterate, eps[j])\n",
    "                objs[j] = value - eps[j]\n",
    "            end\n",
    "            alg.iteration(states[j])\n",
    "        end\n",
    "\n",
    "        #Handle last process since its special\n",
    "        value = inst.f(states[N].iterate)\n",
    "        if value < objs[N]\n",
    "            states[N] = alg.initialization(inst, states[N].iterate, eps[N])\n",
    "            objs[N] = value - eps[N]\n",
    "        end\n",
    "        alg.iteration(states[N])\n",
    "        ret[i+1] = min(ret[i], inst.f(states[N].iterate))\n",
    "    end\n",
    "    return ret, states[N].iterate\n",
    "end;"
   ]
  },
  {
   "cell_type": "markdown",
   "metadata": {},
   "source": [
    "# Solving Some Simple Problems #"
   ]
  },
  {
   "cell_type": "markdown",
   "metadata": {},
   "source": [
    "### The Subgradient Method ###\n",
    " We begin by defining arguably the simplest first-order method, the *subgradient method*."
   ]
  },
  {
   "cell_type": "code",
   "execution_count": 5,
   "metadata": {
    "collapsed": false
   },
   "outputs": [],
   "source": [
    "@everywhere type subgradientMethod_instance <: problem_instance\n",
    "        f\n",
    "        subgrad_f\n",
    "    end\n",
    "@everywhere type subgradientMethod_state <: algorithm_state\n",
    "        instance::subgradientMethod_instance\n",
    "        iterate\n",
    "        epsilon::Float64\n",
    "    end\n",
    "\n",
    "@everywhere function subgradientMethod_initialization(inst::subgradientMethod_instance, x0, epsilon::Float64)\n",
    "        return subgradientMethod_state(inst, x0, epsilon)\n",
    "    end\n",
    "@everywhere function subgradientMethod_iteration(state::subgradientMethod_state)\n",
    "        g = state.instance.subgrad_f(state.iterate)\n",
    "        if norm(g) > 0.0001\n",
    "            state.iterate = state.iterate - state.epsilon*g/norm(g)^2\n",
    "        end\n",
    "    end\n",
    "\n",
    "@everywhere subgradientMethod = algorithm(subgradientMethod_initialization, subgradientMethod_iteration);"
   ]
  },
  {
   "cell_type": "markdown",
   "metadata": {},
   "source": [
    "Then for any problem where we can give a subgradient oracle, we can immidiately apply the subgradient method directly (via direct_scheme()) or in a parallel fashion (via synchronuous_restarting_scheme()).\n",
    "\n",
    "Consider minimizing the one norm of a vector\n",
    "$$ f(x) = \\|x\\|_1.$$\n",
    "We define an instance of this simple problem as follows:"
   ]
  },
  {
   "cell_type": "code",
   "execution_count": 6,
   "metadata": {
    "collapsed": false
   },
   "outputs": [],
   "source": [
    "@everywhere function oneNorm(x)\n",
    "    norm(x,1)\n",
    "end\n",
    "@everywhere function subgrad_oneNorm(x)\n",
    "    g = zeros(length(x))\n",
    "    for i in 1:length(x)\n",
    "        if x[i]>0.0001\n",
    "            g[i]=1\n",
    "        elseif x[i]<-0.0001\n",
    "            g[i]=-1\n",
    "        else\n",
    "            g[i]=0\n",
    "        end\n",
    "    end\n",
    "    return g\n",
    "end\n",
    "\n",
    "@everywhere oneNorm_instance = subgradientMethod_instance(oneNorm, subgrad_oneNorm);"
   ]
  },
  {
   "cell_type": "markdown",
   "metadata": {},
   "source": [
    "Below apply many iterations of the subgradient method directly and apply many iterations via our restarting scheme. Plotting the result of this simple example shows a very quick linear convergence for our restarting method (as one would expect from Theorem ?? of [[1]](https://arxiv.org/abs/1803.00151)) since the one norm is both Lipschitz and sharp."
   ]
  },
  {
   "cell_type": "code",
   "execution_count": 7,
   "metadata": {
    "collapsed": false
   },
   "outputs": [],
   "source": [
    "history1, final_state1 = direct_scheme(subgradientMethod, oneNorm_instance, [1.07,0.0,-2.1], 0.05, 100);"
   ]
  },
  {
   "cell_type": "code",
   "execution_count": 8,
   "metadata": {
    "collapsed": false
   },
   "outputs": [],
   "source": [
    "history2, final_state2 = synchronuous_restarting_scheme(subgradientMethod, oneNorm_instance, [1.07,0.0,-2.1], 0.05, 100);"
   ]
  },
  {
   "cell_type": "code",
   "execution_count": 9,
   "metadata": {
    "collapsed": false
   },
   "outputs": [
    {
     "data": {
      "image/png": "[encoded data removed]",
      "text/plain": [
       "PyPlot.Figure(PyObject <Figure size 640x480 with 1 Axes>)"
      ]
     },
     "metadata": {},
     "output_type": "display_data"
    }
   ],
   "source": [
    "plot(1:101, log.(history1), log.(history2))\n",
    "xlabel(\"Iterations\")\n",
    "ylabel(\"Log Objective Gap\");"
   ]
  },
  {
   "cell_type": "markdown",
   "metadata": {},
   "source": [
    "### Nesterov's Accelerated Gradient Method ###"
   ]
  },
  {
   "cell_type": "code",
   "execution_count": 10,
   "metadata": {
    "collapsed": false
   },
   "outputs": [],
   "source": [
    "\n",
    "@everywhere type acceleratedMethod_instance <: problem_instance\n",
    "        f\n",
    "        grad_f\n",
    "        L::Float64\n",
    "    end\n",
    "@everywhere type acceleratedMethod_state <: algorithm_state\n",
    "        instance::acceleratedMethod_instance\n",
    "        prev_iterate\n",
    "        iterate\n",
    "        counter::Int64\n",
    "    end\n",
    "\n",
    "@everywhere function acceleratedMethod_initialization(inst::acceleratedMethod_instance, x0, epsilon::Float64)\n",
    "        return acceleratedMethod_state(inst, x0, x0, 0)\n",
    "    end\n",
    "@everywhere function acceleratedMethod_iteration(state::acceleratedMethod_state)\n",
    "        k = state.counter\n",
    "        x1 = state.iterate\n",
    "        x0 = state.prev_iterate\n",
    "        y = x1 + (k+2)/(k+1)*(x1 - x0)\n",
    "        g = state.instance.grad_f(y)\n",
    "    \n",
    "        state.prev_iterate = x1\n",
    "        state.iterate = y - g/state.instance.L\n",
    "        state.counter = k+1\n",
    "    end\n",
    "\n",
    "@everywhere acceleratedMethod = algorithm(acceleratedMethod_initialization, acceleratedMethod_iteration);"
   ]
  },
  {
   "cell_type": "markdown",
   "metadata": {},
   "source": [
    "Then for any problem where we can give a gradient oracle and bound the Lipschitz constant of the gradient, we can immidiately apply the accelerated method directly (via direct_scheme()) or in a parallel fashion (via synchronuous_restarting_scheme()).\n",
    "\n",
    "Consider solving a least squares problem plus a smooth regularizer.\n",
    "$$ f(x) = \\|Ax-b\\|_2^2 + \\|x\\|^4_4.$$\n",
    "We define an instance of this simple problem as follows (setting $b=0$ so that we know the optimal objective value is zero):"
   ]
  },
  {
   "cell_type": "code",
   "execution_count": 11,
   "metadata": {
    "collapsed": false
   },
   "outputs": [],
   "source": [
    "A = randn(10,5)\n",
    "b = zeros(10) #randn(10)\n",
    "function leastSquares(x)\n",
    "    norm(A*x-b)^2 + norm(x,4)^4\n",
    "end\n",
    "function grad_leastSquares(x)\n",
    "    return A'*(A*x-b) + 4*x.^3\n",
    "end\n",
    "#The lipschitz constant from the regularizer will depend on how close to optimal the method starts. We'll fudge it and say 200.\n",
    "leastSquares_instance = acceleratedMethod_instance(leastSquares, grad_leastSquares, norm(A)^2+200);"
   ]
  },
  {
   "cell_type": "markdown",
   "metadata": {},
   "source": [
    "Below apply many iterations of the subgradient method directly and apply many iterations via our restarting scheme. Plotting the result of this test shows the restarting scheme also provides an improvement to the convergence here."
   ]
  },
  {
   "cell_type": "code",
   "execution_count": 12,
   "metadata": {
    "collapsed": false
   },
   "outputs": [],
   "source": [
    "history1, final_state1 = direct_scheme(acceleratedMethod, leastSquares_instance, [1.07,5.0,-2.1,3.0,-0.1], 0.005, 100);"
   ]
  },
  {
   "cell_type": "code",
   "execution_count": 13,
   "metadata": {
    "collapsed": false
   },
   "outputs": [],
   "source": [
    "history2, final_state2 = synchronuous_restarting_scheme(acceleratedMethod, leastSquares_instance, [1.07,5.0,-2.1,3.0,-0.1], 0.005, 100);"
   ]
  },
  {
   "cell_type": "code",
   "execution_count": 14,
   "metadata": {
    "collapsed": false
   },
   "outputs": [
    {
     "data": {
      "image/png": "[encoded data removed]",
      "text/plain": [
       "PyPlot.Figure(PyObject <Figure size 640x480 with 1 Axes>)"
      ]
     },
     "metadata": {},
     "output_type": "display_data"
    }
   ],
   "source": [
    "plot(1:101, log.(history1), log.(history2))\n",
    "xlabel(\"Iterations\")\n",
    "ylabel(\"Log Objective Gap\");"
   ]
  },
  {
   "cell_type": "markdown",
   "metadata": {},
   "source": [
    "# Implementation of Parallel Asynchronous Scheme #"
   ]
  },
  {
   "cell_type": "code",
   "execution_count": 25,
   "metadata": {
    "collapsed": false
   },
   "outputs": [],
   "source": [
    "function asynchronuous_restarting_scheme(alg::algorithm, inst::problem_instance, x0, epsilon::Float64, T::Int64)    \n",
    "    N = min(16, max(2,ceil(Int64, -1*log(2,epsilon))))   #Compute how many processes to use, must be between 2 and 8\n",
    "    \n",
    "    @everywhere function first_worker_loop(alg::algorithm, inst::problem_instance, x0, epsilon::Float64, T::Int64,\n",
    "                    output::RemoteChannel{Channel{Tuple}})\n",
    "        ret = Array{Float64}(T+1) #Record of minimum objective value seen at each iteration\n",
    "        ret[1] = inst.f(x0)\n",
    "        state = alg.initialization(inst, x0, epsilon)\n",
    "        obj = inst.f(x0) - epsilon\n",
    "        for i in 1:T\n",
    "            alg.iteration(state)\n",
    "            value = inst.f(state.iterate)\n",
    "            ret[i+1] = min(ret[i], value)\n",
    "            if value < obj\n",
    "                obj = value - epsilon\n",
    "                put!(output, (state.iterate, value))\n",
    "            end\n",
    "        end\n",
    "        ret, state.iterate\n",
    "    end\n",
    "    @everywhere function middle_worker_loop(alg::algorithm, inst::problem_instance, x0, epsilon::Float64, T::Int64, \n",
    "                    input::RemoteChannel{Channel{Tuple}}, output::RemoteChannel{Channel{Tuple}})\n",
    "        ret = Array{Float64}(T+1) #Record of minimum objective value seen at each iteration\n",
    "        ret[1] = inst.f(x0)\n",
    "        \n",
    "        state = alg.initialization(inst, x0, epsilon)\n",
    "        obj = inst.f(x0) - epsilon\n",
    "        for i in 1:T\n",
    "            alg.iteration(state)\n",
    "            x, value = state.iterate, inst.f(state.iterate)\n",
    "            ret[i+1] = min(ret[i], value)\n",
    "            while isready(input)\n",
    "                y, v = take!(input)\n",
    "                if v<value\n",
    "                    x, value = y,v\n",
    "                end\n",
    "            end\n",
    "            if value < obj\n",
    "                obj = value - epsilon\n",
    "                state = alg.initialization(inst, x, epsilon)\n",
    "                put!(output, (x, value))\n",
    "            end\n",
    "        end \n",
    "        ret, state.iterate\n",
    "    end\n",
    "    @everywhere function last_worker_loop(alg::algorithm, inst::problem_instance, x0, epsilon::Float64, T::Int64, \n",
    "                    input::RemoteChannel{Channel{Tuple}})\n",
    "        ret = Array{Float64}(T+1) #Record of minimum objective value seen at each iteration\n",
    "        ret[1] = inst.f(x0)\n",
    "    \n",
    "        state = alg.initialization(inst, x0, epsilon)\n",
    "        obj = inst.f(x0) - epsilon\n",
    "        for i in 1:T\n",
    "            alg.iteration(state)\n",
    "        \n",
    "            x, value = state.iterate, inst.f(state.iterate)\n",
    "            ret[i+1] = min(ret[i], value)\n",
    "            while isready(input)\n",
    "                y, v = take!(input)\n",
    "                if v<value\n",
    "                    x, value = y,v\n",
    "                end\n",
    "            end\n",
    "            if value < obj\n",
    "                obj = value - epsilon\n",
    "                state = alg.initialization(inst, x, epsilon)\n",
    "            end\n",
    "        end\n",
    "        return ret, state.iterate\n",
    "    end\n",
    "    \n",
    "    inputs = Array{RemoteChannel{Channel{Tuple}}}(N-1)\n",
    "    for j in 1:(N-1)\n",
    "        inputs[j] = RemoteChannel(()->Channel{Tuple}(32));\n",
    "    end\n",
    "    #Assigning each thread its task\n",
    "    ret = Array{Array{Float64}}(N)\n",
    "    x = Array{Array{Float64}}(N)\n",
    "    @sync begin\n",
    "        for j in 1:N\n",
    "            p = processes[j]\n",
    "            if j==1\n",
    "                #Launch first process\n",
    "                @async ret[j], x[j] = remotecall_fetch(first_worker_loop, p, alg, inst, x0, 2.0^(-1*j), T, inputs[j])\n",
    "            elseif j<N\n",
    "                #Launch middle processes\n",
    "                @async ret[j], x[j] = remotecall_fetch(middle_worker_loop, p, alg, inst, x0, 2.0^(-1*j), T, inputs[j-1], inputs[j])\n",
    "            else\n",
    "                #Launch last process\n",
    "                @async ret[j], x[j] = remotecall_fetch(last_worker_loop, p, alg, inst, x0, 2.0^(-1*j), T, inputs[j-1])\n",
    "            end\n",
    "        end\n",
    "    end\n",
    "    return ret, x\n",
    "end;"
   ]
  },
  {
   "cell_type": "code",
   "execution_count": 36,
   "metadata": {
    "collapsed": false,
    "scrolled": false
   },
   "outputs": [
    {
     "data": {
      "image/png": "[encoded data removed]",
      "text/plain": [
       "PyPlot.Figure(PyObject <Figure size 640x480 with 1 Axes>)"
      ]
     },
     "metadata": {},
     "output_type": "display_data"
    }
   ],
   "source": [
    "ret, x = asynchronuous_restarting_scheme(subgradientMethod, oneNorm_instance, [1.07,0.0,-2.1], 0.005, 100);\n",
    "\n",
    "plot(1:101, log.(ret[1]))\n",
    "plot(1:101, log.(ret[2]))\n",
    "plot(1:101, log.(ret[3]))\n",
    "plot(1:101, log.(ret[4]))\n",
    "plot(1:101, log.(ret[5]))\n",
    "plot(1:101, log.(ret[6]))\n",
    "plot(1:101, log.(ret[7]))\n",
    "plot(1:101, log.(ret[8]))\n",
    "xlabel(\"Iterations\")\n",
    "ylabel(\"Log Objective Gap\");"
   ]
  },
  {
   "cell_type": "markdown",
   "metadata": {},
   "source": [
    "# Solving an Interesting Problem #"
   ]
  },
  {
   "cell_type": "code",
   "execution_count": null,
   "metadata": {
    "collapsed": false
   },
   "outputs": [],
   "source": []
  },
  {
   "cell_type": "code",
   "execution_count": null,
   "metadata": {
    "collapsed": true
   },
   "outputs": [],
   "source": []
  }
 ],
 "metadata": {
  "kernelspec": {
   "display_name": "Julia 0.6.3",
   "language": "julia",
   "name": "julia-0.6"
  },
  "language_info": {
   "file_extension": ".jl",
   "mimetype": "application/julia",
   "name": "julia",
   "version": "0.6.3"
  }
 },
 "nbformat": 4,
 "nbformat_minor": 2
}
