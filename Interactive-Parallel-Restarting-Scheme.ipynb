{
 "cells": [
  {
   "cell_type": "markdown",
   "metadata": {
    "deletable": true,
    "editable": true
   },
   "source": [
    "# Interactive Julia for *A Simple Nearly-optimal Restart Scheme for Speeding-Up First Order Methods* #\n",
    "\n",
    "### James Renegar, Benjamin Grimmer ###\n",
    "___\n",
    "\n",
    "This notebook follows along the ideas presented in [[1]](https://arxiv.org/abs/1803.00151). Its purpose is to give a simple and understandable implementation of the algorithms and concepts therein. Throughout this document, we may reference equations, lemmas, and theorems using the numbering given in that paper. \n",
    "\n",
    "The general outline of this document is the following:\n",
    "\n",
    "1. Implementation of Basic Synchronous Scheme\n",
    "2. Solving Some Simple Problems:\n",
    "    * --- via Subgradient Method\n",
    "    * --- via Accelerated Method\n",
    "3. Implementation of Parallel Asynchronous Scheme\n",
    "4. Solving an Interesting Problems:\n",
    "    * --- via Inexact Proximal Point Method\n",
    "\n",
    "**License**: Creative Commons License\n",
    "\n",
    "This work is licensed under a Creative Commons Attribution-ShareAlike 4.0 International License (http://creativecommons.org/licenses/by-sa/4.0/).\n",
    "\n",
    "An MIT License for the underlying software is provided in the separate LICENSE file.\n",
    "\n",
    "**Disclaimer**: We make no claim that the code below is optimized or the most efficient version possible. Instead our goal is to give the simplest implementation possible. Speedups are certainly possible using optimized linear algebra packages and by taking advantage of sparsity and problem specific structure.\n",
    "\n",
    "Any questions or feedback on this document can be sent to Ben Grimmer at *bdg79@cornell.edu*. \n",
    "\n",
    "[1] \"A Simple Nearly-Optimal Restart Scheme For Speeding-Up First Order Methods\", https://arxiv.org/abs/1803.00151. James Renegar, Benjamin Grimmer. First posted March 1st, 2018."
   ]
  },
  {
   "cell_type": "markdown",
   "metadata": {
    "deletable": true,
    "editable": true
   },
   "source": [
    "# Implementation of Basic Synchronous Scheme #"
   ]
  },
  {
   "cell_type": "code",
   "execution_count": null,
   "metadata": {
    "collapsed": true
   },
   "outputs": [],
   "source": []
  },
  {
   "cell_type": "markdown",
   "metadata": {},
   "source": [
    "# Solving Some Simple Problems #"
   ]
  },
  {
   "cell_type": "code",
   "execution_count": null,
   "metadata": {
    "collapsed": true
   },
   "outputs": [],
   "source": []
  },
  {
   "cell_type": "markdown",
   "metadata": {},
   "source": [
    "# Implementation of Parallel Asynchronous Scheme #"
   ]
  },
  {
   "cell_type": "code",
   "execution_count": null,
   "metadata": {
    "collapsed": true
   },
   "outputs": [],
   "source": []
  },
  {
   "cell_type": "markdown",
   "metadata": {},
   "source": [
    "# Solving an Interesting Problem #"
   ]
  },
  {
   "cell_type": "code",
   "execution_count": null,
   "metadata": {
    "collapsed": true
   },
   "outputs": [],
   "source": []
  }
 ],
 "metadata": {
  "kernelspec": {
   "display_name": "Julia 0.5.0",
   "language": "julia",
   "name": "julia-0.5"
  },
  "language_info": {
   "file_extension": ".jl",
   "mimetype": "application/julia",
   "name": "julia",
   "version": "0.5.0"
  }
 },
 "nbformat": 4,
 "nbformat_minor": 2
}
